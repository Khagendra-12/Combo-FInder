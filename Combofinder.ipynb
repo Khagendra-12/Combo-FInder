{
  "nbformat": 4,
  "nbformat_minor": 0,
  "metadata": {
    "colab": {
      "provenance": [],
      "authorship_tag": "ABX9TyOjGIz0z1iCKofskLY1dUBz",
      "include_colab_link": true
    },
    "kernelspec": {
      "name": "python3",
      "display_name": "Python 3"
    },
    "language_info": {
      "name": "python"
    }
  },
  "cells": [
    {
      "cell_type": "markdown",
      "metadata": {
        "id": "view-in-github",
        "colab_type": "text"
      },
      "source": [
        "<a href=\"https://colab.research.google.com/github/Khagendra-12/Combo-FInder/blob/main/Combofinder.ipynb\" target=\"_parent\"><img src=\"https://colab.research.google.com/assets/colab-badge.svg\" alt=\"Open In Colab\"/></a>"
      ]
    },
    {
      "cell_type": "markdown",
      "source": [
        "  ---\n",
        "# **ComboFinder**\n",
        "---\n",
        "####**Problem Statement:**\n",
        "To find the all possible combinations of from a list of prosucts so that the sum is within a given range.\n"
      ],
      "metadata": {
        "id": "0-daNcHQPZzS"
      }
    },
    {
      "cell_type": "markdown",
      "source": [
        "Importing libraries and defining functions."
      ],
      "metadata": {
        "id": "DgQGMpc4UeUj"
      }
    },
    {
      "cell_type": "code",
      "source": [
        "from itertools import combinations\n",
        "\n",
        "def isint(inp):\n",
        "  while True:\n",
        "    try:\n",
        "      int(inp)\n",
        "      break\n",
        "    except:\n",
        "      inp = input(\"Enter a valid number: \")\n",
        "  return int(inp)"
      ],
      "metadata": {
        "id": "n6qfyJKWUCQ_"
      },
      "execution_count": 8,
      "outputs": []
    },
    {
      "cell_type": "markdown",
      "source": [
        "Taking input of product list from user."
      ],
      "metadata": {
        "id": "V2yUr3luPyVf"
      }
    },
    {
      "cell_type": "code",
      "execution_count": 9,
      "metadata": {
        "colab": {
          "base_uri": "https://localhost:8080/"
        },
        "id": "-Zwb6_nbPJy1",
        "outputId": "a84bda60-dce7-4a71-9383-525394ddf451"
      },
      "outputs": [
        {
          "output_type": "stream",
          "name": "stdout",
          "text": [
            "Enter number of products: 15\n",
            "Enter item #1: p1\n",
            "Enter the price: 5\n",
            "Enter item #2: p2\n",
            "Enter the price: 10\n",
            "Enter item #3: p3\n",
            "Enter the price: 15\n",
            "Enter item #4: p4\n",
            "Enter the price: 20\n",
            "Enter item #5: p5\n",
            "Enter the price: 25\n",
            "Enter item #6: p6\n",
            "Enter the price: 30\n",
            "Enter item #7: p7\n",
            "Enter the price: 35\n",
            "Enter item #8: p8\n",
            "Enter the price: 40\n",
            "Enter item #9: p9\n",
            "Enter the price: 45\n",
            "Enter item #10: p10\n",
            "Enter the price: 50\n",
            "Enter item #11: p11\n",
            "Enter the price: 55\n",
            "Enter item #12: p12\n",
            "Enter the price: 60\n",
            "Enter item #13: p13\n",
            "Enter the price: 65\n",
            "Enter item #14: p14\n",
            "Enter the price: 70\n",
            "Enter item #15: p15\n",
            "Enter the price: 75\n",
            "Product list: {'p1': 5.0, 'p2': 10.0, 'p3': 15.0, 'p4': 20.0, 'p5': 25.0, 'p6': 30.0, 'p7': 35.0, 'p8': 40.0, 'p9': 45.0, 'p10': 50.0, 'p11': 55.0, 'p12': 60.0, 'p13': 65.0, 'p14': 70.0, 'p15': 75.0}\n"
          ]
        }
      ],
      "source": [
        "n = int(input(\"Enter number of products: \"))\n",
        "productlist = {}\n",
        "\n",
        "for i in range(n):\n",
        "    key = input(f\"Enter item #{i+1}: \")\n",
        "    while True:\n",
        "      value = input(\"Enter the price: \")\n",
        "      try:\n",
        "        value = round(float(value), 2)\n",
        "        break\n",
        "      except:\n",
        "        print(\"Enter a valid price.\")\n",
        "    productlist[key] = value\n",
        "\n",
        "print(f\"Product list: {productlist}\")"
      ]
    },
    {
      "cell_type": "markdown",
      "source": [
        "Taking user input for the range of sum of price of products."
      ],
      "metadata": {
        "id": "1zFRCuBlTnTT"
      }
    },
    {
      "cell_type": "code",
      "source": [
        "LB = input(\"Enter the lower bound of the sum: \")\n",
        "LB = isint(LB)\n",
        "UB = input(\"Enter the upper bound of the sum: \")\n",
        "UB = isint(UB)\n",
        "iterations = input(\"Enter the number of iterations: \")\n",
        "iterations = isint(iterations)"
      ],
      "metadata": {
        "colab": {
          "base_uri": "https://localhost:8080/"
        },
        "id": "nx0fsiiBTmiW",
        "outputId": "b4648b40-5675-4b42-99fa-ee6a22af982b"
      },
      "execution_count": 20,
      "outputs": [
        {
          "name": "stdout",
          "output_type": "stream",
          "text": [
            "Enter the lower bound of the sum: 290\n",
            "Enter the upper bound of the sum: 310\n",
            "Enter the number of iterations: 200\n"
          ]
        }
      ]
    },
    {
      "cell_type": "markdown",
      "source": [
        "Main code to find the products."
      ],
      "metadata": {
        "id": "0vubGKklVWeH"
      }
    },
    {
      "cell_type": "code",
      "source": [
        "allproducts = []\n",
        "\n",
        "for i in range(n+1):\n",
        "  for kv in combinations(list(productlist.items()), i+1):\n",
        "    prod = [k for k,v in kv]\n",
        "    val = [v for k,v in kv]\n",
        "    total = sum(val)\n",
        "\n",
        "    if LB <= total <= UB and len(allproducts) <iterations:\n",
        "      allproducts.append(prod)\n",
        "\n",
        "print(f\"Number of all posible combinations: {len(allproducts)}\")\n",
        "print(\"All possible combinations of products: \")\n",
        "for i in allproducts:\n",
        "  print(i)\n"
      ],
      "metadata": {
        "colab": {
          "base_uri": "https://localhost:8080/"
        },
        "id": "mI4gm6MBVaOT",
        "outputId": "961cdba2-a5c9-4c99-8660-8b60756b2a9a"
      },
      "execution_count": 22,
      "outputs": [
        {
          "output_type": "stream",
          "name": "stdout",
          "text": [
            "Number of all posible combinations: 200\n",
            "All possible combinations of products: \n",
            "['p4', 'p12', 'p13', 'p14', 'p15']\n",
            "['p5', 'p11', 'p13', 'p14', 'p15']\n",
            "['p5', 'p12', 'p13', 'p14', 'p15']\n",
            "['p6', 'p10', 'p13', 'p14', 'p15']\n",
            "['p6', 'p11', 'p12', 'p14', 'p15']\n",
            "['p6', 'p11', 'p13', 'p14', 'p15']\n",
            "['p6', 'p12', 'p13', 'p14', 'p15']\n",
            "['p7', 'p9', 'p13', 'p14', 'p15']\n",
            "['p7', 'p10', 'p12', 'p14', 'p15']\n",
            "['p7', 'p10', 'p13', 'p14', 'p15']\n",
            "['p7', 'p11', 'p12', 'p13', 'p15']\n",
            "['p7', 'p11', 'p12', 'p14', 'p15']\n",
            "['p7', 'p11', 'p13', 'p14', 'p15']\n",
            "['p7', 'p12', 'p13', 'p14', 'p15']\n",
            "['p8', 'p9', 'p12', 'p14', 'p15']\n",
            "['p8', 'p9', 'p13', 'p14', 'p15']\n",
            "['p8', 'p10', 'p11', 'p14', 'p15']\n",
            "['p8', 'p10', 'p12', 'p13', 'p15']\n",
            "['p8', 'p10', 'p12', 'p14', 'p15']\n",
            "['p8', 'p10', 'p13', 'p14', 'p15']\n",
            "['p8', 'p11', 'p12', 'p13', 'p14']\n",
            "['p8', 'p11', 'p12', 'p13', 'p15']\n",
            "['p8', 'p11', 'p12', 'p14', 'p15']\n",
            "['p8', 'p11', 'p13', 'p14', 'p15']\n",
            "['p8', 'p12', 'p13', 'p14', 'p15']\n",
            "['p9', 'p10', 'p11', 'p13', 'p15']\n",
            "['p9', 'p10', 'p11', 'p14', 'p15']\n",
            "['p9', 'p10', 'p12', 'p13', 'p14']\n",
            "['p9', 'p10', 'p12', 'p13', 'p15']\n",
            "['p9', 'p10', 'p12', 'p14', 'p15']\n",
            "['p9', 'p10', 'p13', 'p14', 'p15']\n",
            "['p9', 'p11', 'p12', 'p13', 'p14']\n",
            "['p9', 'p11', 'p12', 'p13', 'p15']\n",
            "['p9', 'p11', 'p12', 'p14', 'p15']\n",
            "['p9', 'p11', 'p13', 'p14', 'p15']\n",
            "['p10', 'p11', 'p12', 'p13', 'p14']\n",
            "['p10', 'p11', 'p12', 'p13', 'p15']\n",
            "['p10', 'p11', 'p12', 'p14', 'p15']\n",
            "['p1', 'p3', 'p12', 'p13', 'p14', 'p15']\n",
            "['p1', 'p4', 'p11', 'p13', 'p14', 'p15']\n",
            "['p1', 'p4', 'p12', 'p13', 'p14', 'p15']\n",
            "['p1', 'p5', 'p10', 'p13', 'p14', 'p15']\n",
            "['p1', 'p5', 'p11', 'p12', 'p14', 'p15']\n",
            "['p1', 'p5', 'p11', 'p13', 'p14', 'p15']\n",
            "['p1', 'p5', 'p12', 'p13', 'p14', 'p15']\n",
            "['p1', 'p6', 'p9', 'p13', 'p14', 'p15']\n",
            "['p1', 'p6', 'p10', 'p12', 'p14', 'p15']\n",
            "['p1', 'p6', 'p10', 'p13', 'p14', 'p15']\n",
            "['p1', 'p6', 'p11', 'p12', 'p13', 'p15']\n",
            "['p1', 'p6', 'p11', 'p12', 'p14', 'p15']\n",
            "['p1', 'p6', 'p11', 'p13', 'p14', 'p15']\n",
            "['p1', 'p6', 'p12', 'p13', 'p14', 'p15']\n",
            "['p1', 'p7', 'p8', 'p13', 'p14', 'p15']\n",
            "['p1', 'p7', 'p9', 'p12', 'p14', 'p15']\n",
            "['p1', 'p7', 'p9', 'p13', 'p14', 'p15']\n",
            "['p1', 'p7', 'p10', 'p11', 'p14', 'p15']\n",
            "['p1', 'p7', 'p10', 'p12', 'p13', 'p15']\n",
            "['p1', 'p7', 'p10', 'p12', 'p14', 'p15']\n",
            "['p1', 'p7', 'p10', 'p13', 'p14', 'p15']\n",
            "['p1', 'p7', 'p11', 'p12', 'p13', 'p14']\n",
            "['p1', 'p7', 'p11', 'p12', 'p13', 'p15']\n",
            "['p1', 'p7', 'p11', 'p12', 'p14', 'p15']\n",
            "['p1', 'p7', 'p11', 'p13', 'p14', 'p15']\n",
            "['p1', 'p7', 'p12', 'p13', 'p14', 'p15']\n",
            "['p1', 'p8', 'p9', 'p11', 'p14', 'p15']\n",
            "['p1', 'p8', 'p9', 'p12', 'p13', 'p15']\n",
            "['p1', 'p8', 'p9', 'p12', 'p14', 'p15']\n",
            "['p1', 'p8', 'p9', 'p13', 'p14', 'p15']\n",
            "['p1', 'p8', 'p10', 'p11', 'p13', 'p15']\n",
            "['p1', 'p8', 'p10', 'p11', 'p14', 'p15']\n",
            "['p1', 'p8', 'p10', 'p12', 'p13', 'p14']\n",
            "['p1', 'p8', 'p10', 'p12', 'p13', 'p15']\n",
            "['p1', 'p8', 'p10', 'p12', 'p14', 'p15']\n",
            "['p1', 'p8', 'p10', 'p13', 'p14', 'p15']\n",
            "['p1', 'p8', 'p11', 'p12', 'p13', 'p14']\n",
            "['p1', 'p8', 'p11', 'p12', 'p13', 'p15']\n",
            "['p1', 'p8', 'p11', 'p12', 'p14', 'p15']\n",
            "['p1', 'p8', 'p11', 'p13', 'p14', 'p15']\n",
            "['p1', 'p9', 'p10', 'p11', 'p12', 'p15']\n",
            "['p1', 'p9', 'p10', 'p11', 'p13', 'p14']\n",
            "['p1', 'p9', 'p10', 'p11', 'p13', 'p15']\n",
            "['p1', 'p9', 'p10', 'p11', 'p14', 'p15']\n",
            "['p1', 'p9', 'p10', 'p12', 'p13', 'p14']\n",
            "['p1', 'p9', 'p10', 'p12', 'p13', 'p15']\n",
            "['p1', 'p9', 'p10', 'p12', 'p14', 'p15']\n",
            "['p1', 'p9', 'p10', 'p13', 'p14', 'p15']\n",
            "['p1', 'p9', 'p11', 'p12', 'p13', 'p14']\n",
            "['p1', 'p9', 'p11', 'p12', 'p13', 'p15']\n",
            "['p1', 'p9', 'p11', 'p12', 'p14', 'p15']\n",
            "['p1', 'p10', 'p11', 'p12', 'p13', 'p14']\n",
            "['p1', 'p10', 'p11', 'p12', 'p13', 'p15']\n",
            "['p2', 'p3', 'p11', 'p13', 'p14', 'p15']\n",
            "['p2', 'p3', 'p12', 'p13', 'p14', 'p15']\n",
            "['p2', 'p4', 'p10', 'p13', 'p14', 'p15']\n",
            "['p2', 'p4', 'p11', 'p12', 'p14', 'p15']\n",
            "['p2', 'p4', 'p11', 'p13', 'p14', 'p15']\n",
            "['p2', 'p4', 'p12', 'p13', 'p14', 'p15']\n",
            "['p2', 'p5', 'p9', 'p13', 'p14', 'p15']\n",
            "['p2', 'p5', 'p10', 'p12', 'p14', 'p15']\n",
            "['p2', 'p5', 'p10', 'p13', 'p14', 'p15']\n",
            "['p2', 'p5', 'p11', 'p12', 'p13', 'p15']\n",
            "['p2', 'p5', 'p11', 'p12', 'p14', 'p15']\n",
            "['p2', 'p5', 'p11', 'p13', 'p14', 'p15']\n",
            "['p2', 'p5', 'p12', 'p13', 'p14', 'p15']\n",
            "['p2', 'p6', 'p8', 'p13', 'p14', 'p15']\n",
            "['p2', 'p6', 'p9', 'p12', 'p14', 'p15']\n",
            "['p2', 'p6', 'p9', 'p13', 'p14', 'p15']\n",
            "['p2', 'p6', 'p10', 'p11', 'p14', 'p15']\n",
            "['p2', 'p6', 'p10', 'p12', 'p13', 'p15']\n",
            "['p2', 'p6', 'p10', 'p12', 'p14', 'p15']\n",
            "['p2', 'p6', 'p10', 'p13', 'p14', 'p15']\n",
            "['p2', 'p6', 'p11', 'p12', 'p13', 'p14']\n",
            "['p2', 'p6', 'p11', 'p12', 'p13', 'p15']\n",
            "['p2', 'p6', 'p11', 'p12', 'p14', 'p15']\n",
            "['p2', 'p6', 'p11', 'p13', 'p14', 'p15']\n",
            "['p2', 'p6', 'p12', 'p13', 'p14', 'p15']\n",
            "['p2', 'p7', 'p8', 'p12', 'p14', 'p15']\n",
            "['p2', 'p7', 'p8', 'p13', 'p14', 'p15']\n",
            "['p2', 'p7', 'p9', 'p11', 'p14', 'p15']\n",
            "['p2', 'p7', 'p9', 'p12', 'p13', 'p15']\n",
            "['p2', 'p7', 'p9', 'p12', 'p14', 'p15']\n",
            "['p2', 'p7', 'p9', 'p13', 'p14', 'p15']\n",
            "['p2', 'p7', 'p10', 'p11', 'p13', 'p15']\n",
            "['p2', 'p7', 'p10', 'p11', 'p14', 'p15']\n",
            "['p2', 'p7', 'p10', 'p12', 'p13', 'p14']\n",
            "['p2', 'p7', 'p10', 'p12', 'p13', 'p15']\n",
            "['p2', 'p7', 'p10', 'p12', 'p14', 'p15']\n",
            "['p2', 'p7', 'p10', 'p13', 'p14', 'p15']\n",
            "['p2', 'p7', 'p11', 'p12', 'p13', 'p14']\n",
            "['p2', 'p7', 'p11', 'p12', 'p13', 'p15']\n",
            "['p2', 'p7', 'p11', 'p12', 'p14', 'p15']\n",
            "['p2', 'p7', 'p11', 'p13', 'p14', 'p15']\n",
            "['p2', 'p8', 'p9', 'p10', 'p14', 'p15']\n",
            "['p2', 'p8', 'p9', 'p11', 'p13', 'p15']\n",
            "['p2', 'p8', 'p9', 'p11', 'p14', 'p15']\n",
            "['p2', 'p8', 'p9', 'p12', 'p13', 'p14']\n",
            "['p2', 'p8', 'p9', 'p12', 'p13', 'p15']\n",
            "['p2', 'p8', 'p9', 'p12', 'p14', 'p15']\n",
            "['p2', 'p8', 'p9', 'p13', 'p14', 'p15']\n",
            "['p2', 'p8', 'p10', 'p11', 'p12', 'p15']\n",
            "['p2', 'p8', 'p10', 'p11', 'p13', 'p14']\n",
            "['p2', 'p8', 'p10', 'p11', 'p13', 'p15']\n",
            "['p2', 'p8', 'p10', 'p11', 'p14', 'p15']\n",
            "['p2', 'p8', 'p10', 'p12', 'p13', 'p14']\n",
            "['p2', 'p8', 'p10', 'p12', 'p13', 'p15']\n",
            "['p2', 'p8', 'p10', 'p12', 'p14', 'p15']\n",
            "['p2', 'p8', 'p10', 'p13', 'p14', 'p15']\n",
            "['p2', 'p8', 'p11', 'p12', 'p13', 'p14']\n",
            "['p2', 'p8', 'p11', 'p12', 'p13', 'p15']\n",
            "['p2', 'p8', 'p11', 'p12', 'p14', 'p15']\n",
            "['p2', 'p9', 'p10', 'p11', 'p12', 'p14']\n",
            "['p2', 'p9', 'p10', 'p11', 'p12', 'p15']\n",
            "['p2', 'p9', 'p10', 'p11', 'p13', 'p14']\n",
            "['p2', 'p9', 'p10', 'p11', 'p13', 'p15']\n",
            "['p2', 'p9', 'p10', 'p11', 'p14', 'p15']\n",
            "['p2', 'p9', 'p10', 'p12', 'p13', 'p14']\n",
            "['p2', 'p9', 'p10', 'p12', 'p13', 'p15']\n",
            "['p2', 'p9', 'p10', 'p12', 'p14', 'p15']\n",
            "['p2', 'p9', 'p11', 'p12', 'p13', 'p14']\n",
            "['p2', 'p9', 'p11', 'p12', 'p13', 'p15']\n",
            "['p2', 'p10', 'p11', 'p12', 'p13', 'p14']\n",
            "['p3', 'p4', 'p9', 'p13', 'p14', 'p15']\n",
            "['p3', 'p4', 'p10', 'p12', 'p14', 'p15']\n",
            "['p3', 'p4', 'p10', 'p13', 'p14', 'p15']\n",
            "['p3', 'p4', 'p11', 'p12', 'p13', 'p15']\n",
            "['p3', 'p4', 'p11', 'p12', 'p14', 'p15']\n",
            "['p3', 'p4', 'p11', 'p13', 'p14', 'p15']\n",
            "['p3', 'p4', 'p12', 'p13', 'p14', 'p15']\n",
            "['p3', 'p5', 'p8', 'p13', 'p14', 'p15']\n",
            "['p3', 'p5', 'p9', 'p12', 'p14', 'p15']\n",
            "['p3', 'p5', 'p9', 'p13', 'p14', 'p15']\n",
            "['p3', 'p5', 'p10', 'p11', 'p14', 'p15']\n",
            "['p3', 'p5', 'p10', 'p12', 'p13', 'p15']\n",
            "['p3', 'p5', 'p10', 'p12', 'p14', 'p15']\n",
            "['p3', 'p5', 'p10', 'p13', 'p14', 'p15']\n",
            "['p3', 'p5', 'p11', 'p12', 'p13', 'p14']\n",
            "['p3', 'p5', 'p11', 'p12', 'p13', 'p15']\n",
            "['p3', 'p5', 'p11', 'p12', 'p14', 'p15']\n",
            "['p3', 'p5', 'p11', 'p13', 'p14', 'p15']\n",
            "['p3', 'p5', 'p12', 'p13', 'p14', 'p15']\n",
            "['p3', 'p6', 'p7', 'p13', 'p14', 'p15']\n",
            "['p3', 'p6', 'p8', 'p12', 'p14', 'p15']\n",
            "['p3', 'p6', 'p8', 'p13', 'p14', 'p15']\n",
            "['p3', 'p6', 'p9', 'p11', 'p14', 'p15']\n",
            "['p3', 'p6', 'p9', 'p12', 'p13', 'p15']\n",
            "['p3', 'p6', 'p9', 'p12', 'p14', 'p15']\n",
            "['p3', 'p6', 'p9', 'p13', 'p14', 'p15']\n",
            "['p3', 'p6', 'p10', 'p11', 'p13', 'p15']\n",
            "['p3', 'p6', 'p10', 'p11', 'p14', 'p15']\n",
            "['p3', 'p6', 'p10', 'p12', 'p13', 'p14']\n",
            "['p3', 'p6', 'p10', 'p12', 'p13', 'p15']\n",
            "['p3', 'p6', 'p10', 'p12', 'p14', 'p15']\n",
            "['p3', 'p6', 'p10', 'p13', 'p14', 'p15']\n",
            "['p3', 'p6', 'p11', 'p12', 'p13', 'p14']\n",
            "['p3', 'p6', 'p11', 'p12', 'p13', 'p15']\n",
            "['p3', 'p6', 'p11', 'p12', 'p14', 'p15']\n",
            "['p3', 'p6', 'p11', 'p13', 'p14', 'p15']\n",
            "['p3', 'p7', 'p8', 'p11', 'p14', 'p15']\n",
            "['p3', 'p7', 'p8', 'p12', 'p13', 'p15']\n",
            "['p3', 'p7', 'p8', 'p12', 'p14', 'p15']\n"
          ]
        }
      ]
    }
  ]
}